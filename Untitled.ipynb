{
 "cells": [
  {
   "cell_type": "code",
   "execution_count": 64,
   "metadata": {},
   "outputs": [],
   "source": [
    "import pandas as pd\n",
    "import numpy as np\n",
    "import scipy.signal # for fitting with SavGol\n",
    "\n",
    "import matplotlib as mpl\n",
    "import matplotlib.pyplot as plt\n",
    "plt.rcParams['font.size']=20\n",
    "plt.rcParams[\"font.family\"] = \"Times New Roman\"\n",
    "\n",
    "from scipy.optimize import curve_fit"
   ]
  },
  {
   "cell_type": "code",
   "execution_count": 10,
   "metadata": {},
   "outputs": [],
   "source": [
    "def getHardSpherePressureEstimate(radius_um, density_um):\n",
    "    kT = 4.11 * 10**(-21)\n",
    "    density_Si = density_um*10**(12)\n",
    "    radius_Si = radius_um* 10**(-6)\n",
    "    phi = density_um*np.pi*radius_um**2\n",
    "    \n",
    "    Pressure = density_Si*(1+0.125*phi**2)/((1-phi)**2)\n",
    "    Pressure *= kT\n",
    "    return Pressure*10**(-6)\n",
    "def ReadEqData(EquilibriumFileName,EqMetaFile):\n",
    "    kT=4.11*10**(-21);\n",
    "    dist_Eq=pd.read_csv(EquilibriumFileName)['Distance_um'].values;\n",
    "    # Force_Eq=pd.read_csv(EquilibriumFileName)['Force [N]'].values;#/AvgPrtclsPerFrame,\n",
    "    density_Eq_um=pd.read_csv(EquilibriumFileName)['Density um^-2'].values;\n",
    "    Energy_Eq=pd.read_csv(EquilibriumFileName)['Energy [kT]'].values;#/AvgPrtclsPerFrame,\n",
    "    CumSumPressureNotScaled=np.cumsum(density_Eq_um*np.gradient(np.log(density_Eq_um)))\n",
    "    # Force_Eq=kT*np.gradient(np.log(density_Eq_um), dist_Eq*10**(-6)) # removed 01/02/2019\n",
    "    # Force_Eq=kT*np.gradient(np.log(density_Eq_um), 1*10**(-6)) # added 01/02/2019\n",
    "    # Force_Eq = pd.read_csv(EquilibriumFileName)['Force [N]'] # added 16/4/19\n",
    "    ## for hard discs corrections:\n",
    "    Force_Eq = 1/density_Eq_um*np.gradient(getHardSpherePressureEstimate(radius_um, density_Eq_um), np.diff(dist_Eq).mean())\n",
    "    CumSumPressureNotScaled=np.cumsum(density_Eq_um*Force_Eq)\n",
    "    # MinimumEnergyDist_ind=np.argmax(CumSumPressureNotScaled)\n",
    "    MinimumEnergyDist_ind = np.argmin((np.cumsum(density_Eq_um)- np.sum(density_Eq_um)/2)**2)\n",
    "    Voltage_Eq=pd.read_csv(EqMetaFile)['DEP_vpp'][0];\n",
    "    return dist_Eq,Force_Eq,MinimumEnergyDist_ind,Voltage_Eq, Energy_Eq, density_Eq_um"
   ]
  },
  {
   "cell_type": "code",
   "execution_count": 13,
   "metadata": {},
   "outputs": [],
   "source": [
    "radius_um = 1"
   ]
  },
  {
   "cell_type": "code",
   "execution_count": 59,
   "metadata": {},
   "outputs": [
    {
     "data": {
      "text/plain": [
       "[<matplotlib.lines.Line2D at 0x1da0fa34c88>]"
      ]
     },
     "execution_count": 59,
     "metadata": {},
     "output_type": "execute_result"
    },
    {
     "data": {
      "image/png": "[encoded data removed]",
      "text/plain": [
       "<Figure size 360x360 with 1 Axes>"
      ]
     },
     "metadata": {
      "needs_background": "light"
     },
     "output_type": "display_data"
    }
   ],
   "source": [
    "# load equilibrium profile. \n",
    "## for old symmetric data, 20190114-S25-dilute: \n",
    "# EqMetaFile=r\"C:\\Users\\M\\Dropbox\\MicroOsmotic\\Python\\\\20190124_S20\\DEP20X1p5_S20_2TMA_0H2O2_1p6pp_004_EnergyForceProfiles_MetaData.txt\"\n",
    "# EqDataFile =r\"C:\\Users\\M\\Dropbox\\MicroOsmotic\\Python\\\\20190124_S20\\DEP20X1p5_S20_2TMA_0H2O2_1p6pp_004_EnergyForceProfiles.txt\"\n",
    "## for 20190212_dblLineAsym2\n",
    "EqMetaFile=\"C:\\\\Users\\\\M\\\\Dropbox\\\\MicroOsmotic\\\\Python\\\\20190212_dblLineAsym2\\\\Calib\\\\DEP20X1p5X_S25_2TMA_0H2O2_0p64pp_flippedDevice_007_EnergyForceProfiles_MetaData.csv\"\n",
    "EqDataFile =\"C:\\\\Users\\\\M\\\\Dropbox\\\\MicroOsmotic\\\\Python\\\\20190212_dblLineAsym2\\\\Calib\\\\DEP20X1p5X_S25_2TMA_0H2O2_0p64pp_flippedDevice_007_EnergyForceProfiles.csv\"\n",
    "## for 20190212_dblLineAsym2 Since May 2019\n",
    "EqMetaFile=\"C:\\\\Users\\\\M\\\\Dropbox\\\\MicroOsmotic\\\\Python\\\\20190212_dblLineAsym2\\\\Calib\\\\DEP20X1p5X_S25_2TMA_0H2O2_0p64pp_flippedDevice_008_EnergyForceProfiles_MetaData.csv\"\n",
    "EqDataFile =\"C:\\\\Users\\\\M\\\\Dropbox\\\\MicroOsmotic\\\\Python\\\\20190212_dblLineAsym2\\\\Calib\\\\DEP20X1p5X_S25_2TMA_0H2O2_0p64pp_flippedDevice_008_EnergyForceProfiles.csv\"\n",
    "\n",
    "dist_Eq,Force_Eq,MinimumEnergyDist_ind,Voltage_Eq, Energy_Eq, density_Eq_um = ReadEqData(EqDataFile,EqMetaFile)\n",
    "plt.figure(figsize=([5,5]))\n",
    "plt.plot(dist_Eq,Force_Eq)"
   ]
  },
  {
   "cell_type": "code",
   "execution_count": 61,
   "metadata": {},
   "outputs": [],
   "source": [
    "def force(y,a,x1,n):\n",
    "    x2 = ChannelLength_um - x1\n",
    "    f= a * (y - x1) ** n - a * (y - x2) ** n\n",
    "    return f\n"
   ]
  },
  {
   "cell_type": "code",
   "execution_count": 62,
   "metadata": {},
   "outputs": [
    {
     "data": {
      "text/plain": [
       "97.9011722769"
      ]
     },
     "execution_count": 62,
     "metadata": {},
     "output_type": "execute_result"
    }
   ],
   "source": [
    "ChannelLength_um=dist_Eq.max()\n",
    "ChannelLength_um"
   ]
  },
  {
   "cell_type": "code",
   "execution_count": null,
   "metadata": {},
   "outputs": [],
   "source": [
    "scipy.signal.s"
   ]
  },
  {
   "cell_type": "code",
   "execution_count": 76,
   "metadata": {},
   "outputs": [
    {
     "data": {
      "text/plain": [
       "(-2.5740160711482485e-15, 3.1164422556356178e-15)"
      ]
     },
     "execution_count": 76,
     "metadata": {},
     "output_type": "execute_result"
    },
    {
     "data": {
      "image/png": "[encoded data removed]",
      "text/plain": [
       "<Figure size 432x288 with 1 Axes>"
      ]
     },
     "metadata": {
      "needs_background": "light"
     },
     "output_type": "display_data"
    }
   ],
   "source": [
    "params=[3*10**(-7),-13.5,-6]\n",
    "BooleanForFit = tuple([Energy_Eq<5])\n",
    "plt.plot(dist_Eq[BooleanForFit],force(dist_Eq,*params)[BooleanForFit])\n",
    "smoothForce = scipy.signal.savgol_filter(Force_Eq[BooleanForFit], 25,1)\n",
    "# plt.plot(dist_Eq[BooleanForFit],smoothForce)\n",
    "plt.ylabel('$f_{\\mathrm{wall}}$ [N]')\n",
    "plt.xlabel('$d$ [$\\mu$m]')\n",
    "plt.ylim([Force_Eq[BooleanForFit].min(), Force_Eq[BooleanForFit].max()])\n",
    "# plt.xlim('$d$ [$\\mu$m]')"
   ]
  },
  {
   "cell_type": "code",
   "execution_count": 23,
   "metadata": {},
   "outputs": [
    {
     "name": "stderr",
     "output_type": "stream",
     "text": [
      "C:\\ProgramData\\Anaconda3\\envs\\Python3\\lib\\site-packages\\ipykernel_launcher.py:1: FutureWarning: Using a non-tuple sequence for multidimensional indexing is deprecated; use `arr[tuple(seq)]` instead of `arr[seq]`. In the future this will be interpreted as an array index, `arr[np.array(seq)]`, which will result either in an error or a different result.\n",
      "  \"\"\"Entry point for launching an IPython kernel.\n",
      "C:\\ProgramData\\Anaconda3\\envs\\Python3\\lib\\site-packages\\ipykernel_launcher.py:3: RuntimeWarning: invalid value encountered in power\n",
      "  This is separate from the ipykernel package so we can avoid doing imports until\n"
     ]
    },
    {
     "ename": "RuntimeError",
     "evalue": "Optimal parameters not found: Number of calls to function has reached maxfev = 800.",
     "output_type": "error",
     "traceback": [
      "\u001b[1;31m---------------------------------------------------------------------------\u001b[0m",
      "\u001b[1;31mRuntimeError\u001b[0m                              Traceback (most recent call last)",
      "\u001b[1;32m<ipython-input-23-d38ea530859b>\u001b[0m in \u001b[0;36m<module>\u001b[1;34m\u001b[0m\n\u001b[1;32m----> 1\u001b[1;33m \u001b[0mpopt\u001b[0m\u001b[1;33m,\u001b[0m \u001b[0mpcov\u001b[0m \u001b[1;33m=\u001b[0m \u001b[0mcurve_fit\u001b[0m\u001b[1;33m(\u001b[0m\u001b[0mforce\u001b[0m\u001b[1;33m,\u001b[0m \u001b[0mdist_Eq\u001b[0m\u001b[1;33m[\u001b[0m\u001b[0mBooleanForFit\u001b[0m\u001b[1;33m]\u001b[0m\u001b[1;33m,\u001b[0m \u001b[0mForce_Eq\u001b[0m\u001b[1;33m[\u001b[0m\u001b[0mBooleanForFit\u001b[0m\u001b[1;33m]\u001b[0m\u001b[1;33m,\u001b[0m\u001b[0mp0\u001b[0m\u001b[1;33m=\u001b[0m\u001b[0mparams\u001b[0m\u001b[1;33m)\u001b[0m\u001b[1;33m\u001b[0m\u001b[1;33m\u001b[0m\u001b[0m\n\u001b[0m",
      "\u001b[1;32mC:\\ProgramData\\Anaconda3\\envs\\Python3\\lib\\site-packages\\scipy\\optimize\\minpack.py\u001b[0m in \u001b[0;36mcurve_fit\u001b[1;34m(f, xdata, ydata, p0, sigma, absolute_sigma, check_finite, bounds, method, jac, **kwargs)\u001b[0m\n\u001b[0;32m    753\u001b[0m         \u001b[0mcost\u001b[0m \u001b[1;33m=\u001b[0m \u001b[0mnp\u001b[0m\u001b[1;33m.\u001b[0m\u001b[0msum\u001b[0m\u001b[1;33m(\u001b[0m\u001b[0minfodict\u001b[0m\u001b[1;33m[\u001b[0m\u001b[1;34m'fvec'\u001b[0m\u001b[1;33m]\u001b[0m \u001b[1;33m**\u001b[0m \u001b[1;36m2\u001b[0m\u001b[1;33m)\u001b[0m\u001b[1;33m\u001b[0m\u001b[1;33m\u001b[0m\u001b[0m\n\u001b[0;32m    754\u001b[0m         \u001b[1;32mif\u001b[0m \u001b[0mier\u001b[0m \u001b[1;32mnot\u001b[0m \u001b[1;32min\u001b[0m \u001b[1;33m[\u001b[0m\u001b[1;36m1\u001b[0m\u001b[1;33m,\u001b[0m \u001b[1;36m2\u001b[0m\u001b[1;33m,\u001b[0m \u001b[1;36m3\u001b[0m\u001b[1;33m,\u001b[0m \u001b[1;36m4\u001b[0m\u001b[1;33m]\u001b[0m\u001b[1;33m:\u001b[0m\u001b[1;33m\u001b[0m\u001b[1;33m\u001b[0m\u001b[0m\n\u001b[1;32m--> 755\u001b[1;33m             \u001b[1;32mraise\u001b[0m \u001b[0mRuntimeError\u001b[0m\u001b[1;33m(\u001b[0m\u001b[1;34m\"Optimal parameters not found: \"\u001b[0m \u001b[1;33m+\u001b[0m \u001b[0merrmsg\u001b[0m\u001b[1;33m)\u001b[0m\u001b[1;33m\u001b[0m\u001b[1;33m\u001b[0m\u001b[0m\n\u001b[0m\u001b[0;32m    756\u001b[0m     \u001b[1;32melse\u001b[0m\u001b[1;33m:\u001b[0m\u001b[1;33m\u001b[0m\u001b[1;33m\u001b[0m\u001b[0m\n\u001b[0;32m    757\u001b[0m         \u001b[1;31m# Rename maxfev (leastsq) to max_nfev (least_squares), if specified.\u001b[0m\u001b[1;33m\u001b[0m\u001b[1;33m\u001b[0m\u001b[1;33m\u001b[0m\u001b[0m\n",
      "\u001b[1;31mRuntimeError\u001b[0m: Optimal parameters not found: Number of calls to function has reached maxfev = 800."
     ]
    }
   ],
   "source": [
    "popt, pcov = curve_fit(force, dist_Eq[BooleanForFit], Force_Eq[BooleanForFit],p0=params)"
   ]
  },
  {
   "cell_type": "code",
   "execution_count": null,
   "metadata": {},
   "outputs": [],
   "source": []
  },
  {
   "cell_type": "code",
   "execution_count": 78,
   "metadata": {},
   "outputs": [
    {
     "data": {
      "text/plain": [
       "4.11e-08"
      ]
     },
     "execution_count": 78,
     "metadata": {},
     "output_type": "execute_result"
    }
   ],
   "source": [
    "radius = 1\n",
    "kT = 4.11 * 10 ** (-21)\n",
    "D_T = 0.1 *10**(-12) # use m^2/s, translational\n",
    "D_R = 1/10\n",
    "h=100/2 * 10**(-6)\n",
    "\n",
    "drag_multiplier = 1\n",
    "\n",
    "drag_N_sPm = drag_multiplier * kT/ D_T\n",
    "drag_N_sPm\n",
    "# rot_drag_N_sPum3 = kT / (8*np.pi*radius**3) * 10 ** 6"
   ]
  },
  {
   "cell_type": "code",
   "execution_count": 79,
   "metadata": {},
   "outputs": [],
   "source": [
    "v= 4.4 * 10 **(-6)\n",
    "rho_z=0.01/(10**(-6))"
   ]
  },
  {
   "cell_type": "code",
   "execution_count": 80,
   "metadata": {},
   "outputs": [
    {
     "data": {
      "text/plain": [
       "3.9784799999999996e-14"
      ]
     },
     "execution_count": 80,
     "metadata": {},
     "output_type": "execute_result"
    }
   ],
   "source": [
    "(v**2)/(2/drag_N_sPm*D_R)*rho_z"
   ]
  },
  {
   "cell_type": "code",
   "execution_count": null,
   "metadata": {},
   "outputs": [],
   "source": []
  }
 ],
 "metadata": {
  "kernelspec": {
   "display_name": "Python 3",
   "language": "python",
   "name": "python3"
  },
  "language_info": {
   "codemirror_mode": {
    "name": "ipython",
    "version": 3
   },
   "file_extension": ".py",
   "mimetype": "text/x-python",
   "name": "python",
   "nbconvert_exporter": "python",
   "pygments_lexer": "ipython3",
   "version": "3.7.2"
  },
  "toc": {
   "nav_menu": {},
   "number_sections": true,
   "sideBar": true,
   "skip_h1_title": false,
   "toc_cell": false,
   "toc_position": {},
   "toc_section_display": "block",
   "toc_window_display": false
  },
  "varInspector": {
   "cols": {
    "lenName": 16,
    "lenType": 16,
    "lenVar": 40
   },
   "kernels_config": {
    "python": {
     "delete_cmd_postfix": "",
     "delete_cmd_prefix": "del ",
     "library": "var_list.py",
     "varRefreshCmd": "print(var_dic_list())"
    },
    "r": {
     "delete_cmd_postfix": ") ",
     "delete_cmd_prefix": "rm(",
     "library": "var_list.r",
     "varRefreshCmd": "cat(var_dic_list()) "
    }
   },
   "types_to_exclude": [
    "module",
    "function",
    "builtin_function_or_method",
    "instance",
    "_Feature"
   ],
   "window_display": false
  }
 },
 "nbformat": 4,
 "nbformat_minor": 2
}
